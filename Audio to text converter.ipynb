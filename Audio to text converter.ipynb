{
 "cells": [
  {
   "attachments": {},
   "cell_type": "markdown",
   "metadata": {},
   "source": [
    "Date: 2nd June 2023\n",
    "Project: Audio to text converter - Transliteration using python\n",
    "Author: Sushrut Shitoot"
   ]
  },
  {
   "attachments": {},
   "cell_type": "markdown",
   "metadata": {},
   "source": [
    "Import the necessary libraries\n"
   ]
  },
  {
   "cell_type": "code",
   "execution_count": 6,
   "metadata": {},
   "outputs": [],
   "source": [
    "import os\n",
    "import numpy as np\n",
    "import speech_recognition as sr\n",
    "import pyaudio as PA\n",
    "import ffmpeg\n",
    "import wave\n",
    "import pydub\n",
    "import IPython\n",
    "import array\n",
    "from pydub import AudioSegment\n",
    "from pydub.silence import split_on_silence\n",
    "import docx"
   ]
  },
  {
   "attachments": {},
   "cell_type": "markdown",
   "metadata": {},
   "source": [
    "Import the recording to be transcribed in the environment"
   ]
  },
  {
   "cell_type": "code",
   "execution_count": 10,
   "metadata": {},
   "outputs": [],
   "source": [
    "Recording = AudioSegment.from_file(\"recording.m4a\")"
   ]
  },
  {
   "attachments": {},
   "cell_type": "markdown",
   "metadata": {},
   "source": [
    "The audio recording file must be converted to the .wav format"
   ]
  },
  {
   "cell_type": "code",
   "execution_count": 11,
   "metadata": {},
   "outputs": [
    {
     "data": {
      "text/plain": [
       "<_io.BufferedRandom name='wav_sample.wav'>"
      ]
     },
     "execution_count": 11,
     "metadata": {},
     "output_type": "execute_result"
    }
   ],
   "source": [
    "#- Convert the audio recording file to .wav format -#\n",
    "Recording.export(\"wav_sample.wav\", format=\"wav\")"
   ]
  },
  {
   "cell_type": "code",
   "execution_count": 12,
   "metadata": {},
   "outputs": [
    {
     "name": "stdout",
     "output_type": "stream",
     "text": [
      "Fetching file, please wait ...\n",
      "Converting the audio file into text ...\n",
      "journey to the year with a selection of quotes from Paulo coin is regarded by millions of The Alchemist towards is one of this century is most influential write his books not only make it to the top of the bestseller lists they also provide social and cultural dabate he deals with subjects ideas and philosophies that speak to the aspirations of those many readers who are in search of their own path and a few ways of understanding the word catalina estrada Marvel at the lush vibrant nature of a native Columbia as a child now and internationally renowned Illustrator living in Barcelona catalina is not forgotten the same wide wonder still evident in her work with its elegant explosion of colour\n"
     ]
    },
    {
     "data": {
      "text/plain": [
       "<docx.text.paragraph.Paragraph at 0x1d9986f1630>"
      ]
     },
     "execution_count": 12,
     "metadata": {},
     "output_type": "execute_result"
    }
   ],
   "source": [
    "#- Phase 1: Transcribe a .wav file from the laptop -#\n",
    "r = sr.Recognizer()\n",
    "\n",
    "#- with sr.AudioFile(\"wav_sample.wav\") as source:\n",
    "with sr.AudioFile(\"wav_sample.wav\") as source:\n",
    "    print('Fetching file, please wait ...')\n",
    "    #- listen for the data (load audio to memory)\n",
    "    audio_data = r.record(source)\n",
    "    #- Recognize (convert from speech to text)\n",
    "    # recoginize_() method will throw a request error if the API is unreachable, hence using exception handling\n",
    "    try:\n",
    "        #- Use google speech recognition for transcribing audio to text -#\n",
    "        print('Converting the audio file into text ...')\n",
    "        text = r.recognize_google(audio_data)\n",
    "        #- text = r.recognize_google(audio_data, language=\"es-ES\")\n",
    "        print(text)\n",
    "    \n",
    "    except:\n",
    "        print(\"Sorry, please execeute the command again ...\")\n",
    "    #- Check the validity of the text -#\n",
    "\n",
    "Chunks = split_on_silence(Recording, min_silence_len = 500, silence_thresh = Recording.dBFS-14, keep_silence=500)\n",
    "\n",
    "\n",
    "\n",
    "#- Write the transcribed text into a word document as output -#\n",
    "Output = docx.Document()\n",
    "\n",
    "#- Add a paragraph to insert the desired text in the word document -#\n",
    "Output.add_paragraph(text)"
   ]
  },
  {
   "attachments": {},
   "cell_type": "markdown",
   "metadata": {},
   "source": [
    "Export and save the transliteration to a word file"
   ]
  },
  {
   "cell_type": "code",
   "execution_count": 13,
   "metadata": {},
   "outputs": [],
   "source": [
    "#- The file needs to be saved to be accessed properly -#\n",
    "Output.save(\"E:/Learning/Python/Audio to Text Converter/Output_Document.docx\")"
   ]
  },
  {
   "cell_type": "code",
   "execution_count": null,
   "metadata": {},
   "outputs": [],
   "source": []
  }
 ],
 "metadata": {
  "kernelspec": {
   "display_name": "base",
   "language": "python",
   "name": "python3"
  },
  "language_info": {
   "codemirror_mode": {
    "name": "ipython",
    "version": 3
   },
   "file_extension": ".py",
   "mimetype": "text/x-python",
   "name": "python",
   "nbconvert_exporter": "python",
   "pygments_lexer": "ipython3",
   "version": "3.10.9"
  },
  "orig_nbformat": 4
 },
 "nbformat": 4,
 "nbformat_minor": 2
}
